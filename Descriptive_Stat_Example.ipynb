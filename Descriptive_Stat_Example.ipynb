{
  "nbformat": 4,
  "nbformat_minor": 0,
  "metadata": {
    "colab": {
      "provenance": [],
      "mount_file_id": "1qXyngLyqkkxMWGXYMOPcdTUdtXCeap4M",
      "authorship_tag": "ABX9TyNhYiaYx82j3hmsEgbyo44+",
      "include_colab_link": true
    },
    "kernelspec": {
      "name": "python3",
      "display_name": "Python 3"
    },
    "language_info": {
      "name": "python"
    }
  },
  "cells": [
    {
      "cell_type": "markdown",
      "metadata": {
        "id": "view-in-github",
        "colab_type": "text"
      },
      "source": [
        "<a href=\"https://colab.research.google.com/github/KhmAsif/IMSE441S2025/blob/main/Descriptive_Stat_Example.ipynb\" target=\"_parent\"><img src=\"https://colab.research.google.com/assets/colab-badge.svg\" alt=\"Open In Colab\"/></a>"
      ]
    },
    {
      "cell_type": "code",
      "execution_count": null,
      "metadata": {
        "id": "Y7psCXBvRxur"
      },
      "outputs": [],
      "source": [
        "import numpy as np\n",
        "import pandas as pd\n",
        "import matplotlib.pyplot as plt"
      ]
    },
    {
      "cell_type": "code",
      "source": [
        "#Data upload\n",
        "steel_strentgh= pd.read_csv('/content/drive/MyDrive/IMSE_441/compressive_strength.csv')\n"
      ],
      "metadata": {
        "id": "ZgwqXDLOSKQp"
      },
      "execution_count": null,
      "outputs": []
    },
    {
      "cell_type": "code",
      "source": [
        "steel_strentgh.head()"
      ],
      "metadata": {
        "id": "94Y80Jd6OQ8z"
      },
      "execution_count": null,
      "outputs": []
    },
    {
      "cell_type": "code",
      "source": [
        "steel_str1= pd.read_csv('https://raw.githubusercontent.com/KhmAsif/IMSE441Spring24/main/compressive_strength.csv')\n",
        "steel_str1.head()"
      ],
      "metadata": {
        "id": "nrdzGeV_Jy4H"
      },
      "execution_count": null,
      "outputs": []
    },
    {
      "cell_type": "code",
      "source": [
        "grp_str=pd.read_csv('/content/drive/MyDrive/IMSE_441/Grip_strength.csv')\n",
        "grp_str.head()"
      ],
      "metadata": {
        "id": "5BObDSYQoOu3"
      },
      "execution_count": null,
      "outputs": []
    },
    {
      "cell_type": "code",
      "source": [
        "steel_strentgh.describe()"
      ],
      "metadata": {
        "id": "mt_XMhOwSe4K"
      },
      "execution_count": null,
      "outputs": []
    },
    {
      "cell_type": "code",
      "source": [
        "grp_str.describe()"
      ],
      "metadata": {
        "id": "59bgoQ4To4r3"
      },
      "execution_count": null,
      "outputs": []
    },
    {
      "cell_type": "code",
      "source": [
        "#Mean, Median, Mode\n",
        "str_mean=steel_strentgh['cs'].mean()\n",
        "str_median=steel_strentgh['cs'].median()\n",
        "str_mode=steel_strentgh['cs'].mode()\n",
        "\n",
        "print('mean= ',str_mean, 'median= ', str_median, 'mode= ', str_mode)"
      ],
      "metadata": {
        "id": "U4FINB8EUO6I"
      },
      "execution_count": null,
      "outputs": []
    },
    {
      "cell_type": "code",
      "source": [
        "#Range\n",
        "Range= steel_strentgh['cs'].max()-steel_strentgh['cs'].min()\n",
        "Range"
      ],
      "metadata": {
        "id": "iwxOaKxB6Obp"
      },
      "execution_count": null,
      "outputs": []
    },
    {
      "cell_type": "code",
      "source": [
        "#IQR\n",
        "Q1= np.percentile(steel_strentgh['cs'],(25))\n",
        "Q2= np.percentile(steel_strentgh['cs'],(50))\n",
        "Q3= np.percentile(steel_strentgh['cs'],(75))\n",
        "print('1st quartile = ',Q1, '2nd quartile = ',Q2, '3rd quartile = ',Q3)"
      ],
      "metadata": {
        "id": "7dRrnmo56nbp"
      },
      "execution_count": null,
      "outputs": []
    },
    {
      "cell_type": "code",
      "source": [
        "#Variance\n",
        "var=steel_strentgh['cs'].var()\n",
        "var"
      ],
      "metadata": {
        "id": "KJZ1fDwcTVLh"
      },
      "execution_count": null,
      "outputs": []
    },
    {
      "cell_type": "code",
      "source": [
        "#Standard Deviation\n",
        "steel_strentgh['cs'].std()"
      ],
      "metadata": {
        "id": "GzVMlOI-T0Qw"
      },
      "execution_count": null,
      "outputs": []
    },
    {
      "cell_type": "code",
      "source": [
        "#Stem-and-Leaf plot\n",
        "!pip install stemgraphic\n"
      ],
      "metadata": {
        "id": "Vs9rZXcDcXTN"
      },
      "execution_count": null,
      "outputs": []
    },
    {
      "cell_type": "code",
      "source": [
        "import stemgraphic as STM"
      ],
      "metadata": {
        "id": "zniPgyExrfli"
      },
      "execution_count": null,
      "outputs": []
    },
    {
      "cell_type": "code",
      "source": [
        "Fig, ax1= STM.stem_graphic(steel_strentgh['cs'])"
      ],
      "metadata": {
        "id": "vyOqLT0RT35B"
      },
      "execution_count": null,
      "outputs": []
    },
    {
      "cell_type": "code",
      "source": [
        "#Time series\n",
        "plt.figure(figsize=(10,5))\n",
        "plt.plot(steel_strentgh['cs'],linewidth=3, marker= 'o', color='green')\n",
        "plt.title('Time Series' )\n",
        "plt.xlabel('sequence')\n",
        "plt.ylabel('compressive strength')\n",
        "plt.show()"
      ],
      "metadata": {
        "id": "BJkWnJg4gcU0"
      },
      "execution_count": null,
      "outputs": []
    },
    {
      "cell_type": "code",
      "source": [
        "#Histogram\n",
        "plt.hist(steel_strentgh['cs'], bins=9,rwidth=0.95, color='green', alpha=0.75)\n",
        "plt.xlabel('Strength')\n",
        "plt.ylabel('Frequency')\n",
        "plt.title('Histogram')\n",
        "plt.grid(alpha=0.25)\n",
        "plt.show()"
      ],
      "metadata": {
        "id": "BOdOMxWgrxih"
      },
      "execution_count": null,
      "outputs": []
    },
    {
      "cell_type": "code",
      "source": [
        "plt.hist(steel_strentgh['cs'], cumulative= 'True', bins=9, rwidth=0.95, color='green', alpha=0.75)\n",
        "plt.xlabel('Strength')\n",
        "plt.ylabel('Frequency')\n",
        "plt.title('Histogram')\n",
        "plt.grid(alpha=0.25)\n",
        "plt.show()"
      ],
      "metadata": {
        "id": "I3QDJrtXzrnM"
      },
      "execution_count": null,
      "outputs": []
    },
    {
      "cell_type": "code",
      "source": [
        "#Boxplot\n",
        "n_str=grp_str[grp_str['Gender'] == 'M']\n",
        "n_str.head()"
      ],
      "metadata": {
        "id": "gMgA4C_XLHZq"
      },
      "execution_count": null,
      "outputs": []
    },
    {
      "cell_type": "code",
      "source": [
        "plt.boxplot([n_str['Shoe_size']],labels=['Shoe size'])\n",
        "plt.ylabel('Inch')\n",
        "plt.ylim(7,14)\n",
        "plt.title('Boxplot')\n",
        "plt.show()"
      ],
      "metadata": {
        "id": "11tw6bL2z4Ph"
      },
      "execution_count": null,
      "outputs": []
    },
    {
      "cell_type": "code",
      "source": [
        "plt.boxplot([n_str['Shoe_size'],n_str['Height']],labels=['Shoe size','Height'])\n",
        "plt.ylabel('Inch')\n",
        "#\n",
        "plt.title('Boxplot')\n",
        "plt.show()"
      ],
      "metadata": {
        "id": "MKVGC3WjKy0i"
      },
      "execution_count": null,
      "outputs": []
    },
    {
      "cell_type": "markdown",
      "source": [
        "**Scatter plot**"
      ],
      "metadata": {
        "id": "khtIwJh-1_jO"
      }
    },
    {
      "cell_type": "code",
      "source": [
        "plt.figure(figsize=(15,10))\n",
        "plt.scatter(n_str['Height'], n_str['Shoe_size'])\n",
        "plt.title('Scatter Plot' )\n",
        "plt.xlabel('Height')\n",
        "plt.ylabel('Grip Strength')\n",
        "plt.show()"
      ],
      "metadata": {
        "id": "mSfFrNDYkXha"
      },
      "execution_count": null,
      "outputs": []
    },
    {
      "cell_type": "code",
      "source": [
        "fig, ((ax1,ax2,ax3)) = plt.subplots(nrows=3,ncols=1,figsize=(4,15))\n",
        "ax1.plot()\n",
        "ax2.plot()\n",
        "ax3.plot()\n",
        "ax1.scatter(grp_str['Height'], grp_str['Grip_Strength'])\n",
        "ax1.set(title='Height vs Strength',xlabel='Height',ylabel='Strength')\n",
        "ax2.scatter(grp_str['Height'], grp_str['Shoe_size'])\n",
        "ax2.set(title='Height vs Shoe size',xlabel='Height',ylabel='Shoe Size')\n",
        "ax3.scatter(grp_str['Shoe_size'], grp_str['Grip_Strength'])\n",
        "ax3.set(title='Shoe_size vs Strength',xlabel='Shoe_size',ylabel='Strength')\n",
        "plt.show()\n"
      ],
      "metadata": {
        "id": "iVOEW8z0lAUy"
      },
      "execution_count": null,
      "outputs": []
    },
    {
      "cell_type": "markdown",
      "source": [
        "**Scatter Matrix**"
      ],
      "metadata": {
        "id": "8WPmrJGFB59K"
      }
    },
    {
      "cell_type": "code",
      "source": [
        "red_wine=pd.read_csv('https://raw.githubusercontent.com/KhmAsif/IMSE441S2025/refs/heads/main/red_wine.csv')"
      ],
      "metadata": {
        "id": "5db6fohIZmqF"
      },
      "execution_count": null,
      "outputs": []
    },
    {
      "cell_type": "code",
      "source": [
        "red_wine.head()"
      ],
      "metadata": {
        "id": "nZT4uFmtZzPF"
      },
      "execution_count": null,
      "outputs": []
    },
    {
      "cell_type": "code",
      "source": [
        "pd.plotting.scatter_matrix(red_wine, figsize=(10, 10))\n",
        "plt.show()"
      ],
      "metadata": {
        "id": "aS4u5NiyZkld"
      },
      "execution_count": null,
      "outputs": []
    },
    {
      "cell_type": "code",
      "source": [
        "import seaborn as sns\n",
        "sns.pairplot(red_wine)\n",
        "plt.show()\n"
      ],
      "metadata": {
        "id": "KczeRD8Mg7pb"
      },
      "execution_count": null,
      "outputs": []
    },
    {
      "cell_type": "markdown",
      "source": [
        "**More Example**"
      ],
      "metadata": {
        "id": "CsgnQP--La2g"
      }
    },
    {
      "cell_type": "code",
      "source": [
        "lake=pd.read_csv('/content/drive/MyDrive/IMSE_441/lake_powell.csv')"
      ],
      "metadata": {
        "id": "wvKyJThb4H7x"
      },
      "execution_count": null,
      "outputs": []
    },
    {
      "cell_type": "code",
      "source": [
        "lake.head()"
      ],
      "metadata": {
        "id": "YD2iqfCD8GTs"
      },
      "execution_count": null,
      "outputs": []
    },
    {
      "cell_type": "code",
      "source": [
        "lake.describe()"
      ],
      "metadata": {
        "id": "ATkbeQpCD6oQ"
      },
      "execution_count": null,
      "outputs": []
    },
    {
      "cell_type": "markdown",
      "source": [
        "**Boxplot Interpretation**"
      ],
      "metadata": {
        "id": "iDECo5-w1hL2"
      }
    },
    {
      "cell_type": "code",
      "source": [
        "lake_1 = lake.iloc[0:50,0:5]"
      ],
      "metadata": {
        "id": "nTRLGg0U9gQ3"
      },
      "execution_count": null,
      "outputs": []
    },
    {
      "cell_type": "code",
      "source": [
        "lake_1.head()"
      ],
      "metadata": {
        "id": "I-s4T7aO95ZI"
      },
      "execution_count": null,
      "outputs": []
    },
    {
      "cell_type": "code",
      "source": [
        "plt.boxplot([lake_1['evaporation']], labels=['Evaporation'])\n",
        "plt.ylabel('Level')\n",
        "plt.title('Boxplot')\n",
        "plt.show()"
      ],
      "metadata": {
        "id": "WKCGwHfzENb0"
      },
      "execution_count": null,
      "outputs": []
    },
    {
      "cell_type": "code",
      "source": [
        "car=pd.read_csv('/content/drive/MyDrive/IMSE_441/car_price.csv')"
      ],
      "metadata": {
        "id": "qHYQUqSlA_64"
      },
      "execution_count": null,
      "outputs": []
    },
    {
      "cell_type": "code",
      "source": [
        "car.head()"
      ],
      "metadata": {
        "id": "G7hk-jZKRwa6"
      },
      "execution_count": null,
      "outputs": []
    }
  ]
}