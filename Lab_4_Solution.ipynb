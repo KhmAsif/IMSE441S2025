{
  "nbformat": 4,
  "nbformat_minor": 0,
  "metadata": {
    "colab": {
      "provenance": [],
      "authorship_tag": "ABX9TyNhGyigHJl7uoUi0tRrfdeA",
      "include_colab_link": true
    },
    "kernelspec": {
      "name": "python3",
      "display_name": "Python 3"
    },
    "language_info": {
      "name": "python"
    }
  },
  "cells": [
    {
      "cell_type": "markdown",
      "metadata": {
        "id": "view-in-github",
        "colab_type": "text"
      },
      "source": [
        "<a href=\"https://colab.research.google.com/github/KhmAsif/IMSE441S2025/blob/main/Lab_4_Solution.ipynb\" target=\"_parent\"><img src=\"https://colab.research.google.com/assets/colab-badge.svg\" alt=\"Open In Colab\"/></a>"
      ]
    },
    {
      "cell_type": "code",
      "source": [
        "from scipy.stats import norm"
      ],
      "metadata": {
        "id": "4t7QWiLsmYXl"
      },
      "execution_count": null,
      "outputs": []
    },
    {
      "cell_type": "markdown",
      "source": [
        "**Question 1**"
      ],
      "metadata": {
        "id": "hl8HE2H_m6UV"
      }
    },
    {
      "cell_type": "code",
      "source": [
        "#(a) P(-0.7 < Z < 0.7)\n",
        "a=norm.cdf(0.7,0,1)-norm.cdf(-.7,0,1)\n",
        "print(a)"
      ],
      "metadata": {
        "colab": {
          "base_uri": "https://localhost:8080/"
        },
        "id": "2QNXTGlbm1dN",
        "outputId": "6d362ed5-ecb7-4b73-fbd6-df9dd008b67d"
      },
      "execution_count": null,
      "outputs": [
        {
          "output_type": "stream",
          "name": "stdout",
          "text": [
            "0.5160726955538539\n"
          ]
        }
      ]
    },
    {
      "cell_type": "code",
      "source": [
        "#(b) P(-2.34 < Z < 1.76)\n",
        "b=norm.cdf(1.76,0,1)-norm.cdf(-2.34,0,1)\n",
        "print(b)"
      ],
      "metadata": {
        "colab": {
          "base_uri": "https://localhost:8080/"
        },
        "id": "N_h81iSvnXJ_",
        "outputId": "5ca8d805-6eb2-41b7-b175-ac32d76258ec"
      },
      "execution_count": null,
      "outputs": [
        {
          "output_type": "stream",
          "name": "stdout",
          "text": [
            "0.951154226767159\n"
          ]
        }
      ]
    },
    {
      "cell_type": "code",
      "source": [
        "#c) P(Z > 2.15)\n",
        "c=norm.sf(2.15,0,1)\n",
        "print(c)"
      ],
      "metadata": {
        "colab": {
          "base_uri": "https://localhost:8080/"
        },
        "id": "wWyaB3d2n0Oh",
        "outputId": "87fd626c-39cb-4bf1-c3e8-55ed5d55e200"
      },
      "execution_count": null,
      "outputs": [
        {
          "output_type": "stream",
          "name": "stdout",
          "text": [
            "0.0157776073910905\n"
          ]
        }
      ]
    },
    {
      "cell_type": "markdown",
      "source": [
        "**Question 2**"
      ],
      "metadata": {
        "id": "k4IjreHOoFtR"
      }
    },
    {
      "cell_type": "code",
      "source": [
        "#Assume that X is normally distributed with a mean of 7 and a standard deviation of 4. Determine the value for x that solves each of the following equations\n",
        "#(a) P(X > x) = 0.5\n",
        "a = norm.ppf(0.5,7,4)\n",
        "print(a)"
      ],
      "metadata": {
        "colab": {
          "base_uri": "https://localhost:8080/"
        },
        "id": "Tbpzlxw7oJLJ",
        "outputId": "b33d94e5-fde6-4a77-9752-b2aeb35fb4ab"
      },
      "execution_count": null,
      "outputs": [
        {
          "output_type": "stream",
          "name": "stdout",
          "text": [
            "7.0\n"
          ]
        }
      ]
    },
    {
      "cell_type": "code",
      "execution_count": null,
      "metadata": {
        "colab": {
          "base_uri": "https://localhost:8080/"
        },
        "id": "tCfWVVxMh0-_",
        "outputId": "0c05e484-137d-4fc1-b6b3-865c1bd39af9"
      },
      "outputs": [
        {
          "output_type": "execute_result",
          "data": {
            "text/plain": [
              "10.303317214195602"
            ]
          },
          "metadata": {},
          "execution_count": 38
        }
      ],
      "source": [
        "#(b) P(-x < X-7 < x) = 0.99\n",
        "x_value= norm.ppf(0.995, 7, 4)-7\n",
        "x_value"
      ]
    },
    {
      "cell_type": "markdown",
      "source": [
        "**Question 3**\n",
        "\n",
        "A credit card company monitors cardholder transaction habits to detect any unusual activity. Suppose that the dollar value of unusual activity for a customer in a month follows a normal distribution with mean $250 and variance 391"
      ],
      "metadata": {
        "id": "P3EyiKpTpJGr"
      }
    },
    {
      "cell_type": "code",
      "source": [
        "import math"
      ],
      "metadata": {
        "id": "5rX9adoXyl3q"
      },
      "execution_count": null,
      "outputs": []
    },
    {
      "cell_type": "code",
      "source": [
        "st=math.sqrt(391)"
      ],
      "metadata": {
        "id": "veFUJTZEyoua"
      },
      "execution_count": null,
      "outputs": []
    },
    {
      "cell_type": "code",
      "source": [
        "#(a) What is the probability of $250 to $300 in unusual activity in a month?\n",
        "a=norm.cdf(300.5,250,st)-norm.cdf(249.5,250,st)\n",
        "print(a)"
      ],
      "metadata": {
        "colab": {
          "base_uri": "https://localhost:8080/"
        },
        "id": "vEB_UJJymsRl",
        "outputId": "6ffd39d1-d42b-4596-917d-89559b143132"
      },
      "execution_count": null,
      "outputs": [
        {
          "output_type": "stream",
          "name": "stdout",
          "text": [
            "0.5047603420679136\n"
          ]
        }
      ]
    },
    {
      "cell_type": "code",
      "source": [
        "#(b) What is the probability of more than $300 in unusual activity in a month?\n",
        "b=norm.sf(300.5,250,st)\n",
        "print(b)"
      ],
      "metadata": {
        "colab": {
          "base_uri": "https://localhost:8080/"
        },
        "id": "b7C-lPzPqKm-",
        "outputId": "5a1153b6-fa3f-4330-e2cf-f4d9a97b5270"
      },
      "execution_count": null,
      "outputs": [
        {
          "output_type": "stream",
          "name": "stdout",
          "text": [
            "0.005326272205818841\n"
          ]
        }
      ]
    },
    {
      "cell_type": "markdown",
      "source": [
        "**Question 4**\n",
        "\n",
        "Suppose that X has a Poisson distribution with a mean of 70. Approximate the following probabilities"
      ],
      "metadata": {
        "id": "Xp_jTQ9gqVf1"
      }
    },
    {
      "cell_type": "code",
      "source": [
        "st=math.sqrt(70)"
      ],
      "metadata": {
        "id": "1XiliRNLgUfr"
      },
      "execution_count": null,
      "outputs": []
    },
    {
      "cell_type": "code",
      "source": [
        "#(a) P(X > 78)\n",
        "a=norm.sf(78.5,70,st)\n",
        "print(a)"
      ],
      "metadata": {
        "colab": {
          "base_uri": "https://localhost:8080/"
        },
        "id": "Hcqg_89Aqx3W",
        "outputId": "72e11566-a023-4e20-ac62-5550ef4dc7d0"
      },
      "execution_count": null,
      "outputs": [
        {
          "output_type": "stream",
          "name": "stdout",
          "text": [
            "0.15482795152292833\n"
          ]
        }
      ]
    },
    {
      "cell_type": "code",
      "source": [
        "#(b) P(X < 70)\n",
        "b=norm.cdf(69.5,70,st)\n",
        "print(b)"
      ],
      "metadata": {
        "colab": {
          "base_uri": "https://localhost:8080/"
        },
        "id": "mVlvblI0rTcP",
        "outputId": "f3ffa51c-aa4b-4772-dd03-5196be5093ba"
      },
      "execution_count": null,
      "outputs": [
        {
          "output_type": "stream",
          "name": "stdout",
          "text": [
            "0.4761728223368296\n"
          ]
        }
      ]
    },
    {
      "cell_type": "code",
      "source": [
        "#(c) P(66 < X <= 74)\n",
        "c=norm.cdf(74.5,70,st)-norm.cdf(66.5,70,st)\n",
        "print(c)"
      ],
      "metadata": {
        "colab": {
          "base_uri": "https://localhost:8080/"
        },
        "id": "v0ChgrFHrfB_",
        "outputId": "3f393221-3b59-4a26-868f-03fcbe0858c6"
      },
      "execution_count": null,
      "outputs": [
        {
          "output_type": "stream",
          "name": "stdout",
          "text": [
            "0.36680776300029927\n"
          ]
        }
      ]
    },
    {
      "cell_type": "markdown",
      "source": [
        "**Question 5**\n",
        "\n",
        "Among homeowners in a metropolitan area, 75% recycle plastic bottles each week. A waste management company services 1700 homeowners (assumed independent). Approximate the following probabilities."
      ],
      "metadata": {
        "id": "PiQ1IpQSsGEK"
      }
    },
    {
      "cell_type": "code",
      "source": [
        "n = 1700\n",
        "p = 0.75\n",
        "mean = n*p\n",
        "stddev = math.sqrt(n*p*(1 - p))"
      ],
      "metadata": {
        "id": "-hSWm-wKg6il"
      },
      "execution_count": null,
      "outputs": []
    },
    {
      "cell_type": "code",
      "source": [
        "#(a) At least 1300 recycle plastic bottles in a week.\n",
        "a = norm.sf(1300, mean, stddev)\n",
        "print(a)"
      ],
      "metadata": {
        "colab": {
          "base_uri": "https://localhost:8080/"
        },
        "id": "HvjFNe-Wg8bl",
        "outputId": "31015f95-2152-4963-a777-9493d691e456"
      },
      "execution_count": null,
      "outputs": [
        {
          "output_type": "stream",
          "name": "stdout",
          "text": [
            "0.08071473118354161\n"
          ]
        }
      ]
    },
    {
      "cell_type": "code",
      "source": [
        "#(b) Between 1225 and 1325 recycle plastic bottles in a week.\n",
        "b= norm.cdf(1325, mean, stddev) - norm.cdf(1225, mean, stddev)\n",
        "print(b)"
      ],
      "metadata": {
        "colab": {
          "base_uri": "https://localhost:8080/"
        },
        "id": "xHKhoxazhJae",
        "outputId": "0ffe95cd-e33d-4808-cced-28b70f411c28"
      },
      "execution_count": null,
      "outputs": [
        {
          "output_type": "stream",
          "name": "stdout",
          "text": [
            "0.994898600353995\n"
          ]
        }
      ]
    },
    {
      "cell_type": "code",
      "source": [
        "from scipy.stats import binom"
      ],
      "metadata": {
        "id": "UvjdG97EsR3z"
      },
      "execution_count": null,
      "outputs": []
    },
    {
      "cell_type": "code",
      "source": [
        "#(a) At least 1300 recycle plastic bottles in a week.\n",
        "a= binom.sf(1299,p=0.75, n=1700)\n",
        "print(a)"
      ],
      "metadata": {
        "colab": {
          "base_uri": "https://localhost:8080/"
        },
        "id": "J4Q14AbesFaK",
        "outputId": "4b6a4df2-9c61-4e22-f110-a8c7f84d364a"
      },
      "execution_count": null,
      "outputs": [
        {
          "output_type": "stream",
          "name": "stdout",
          "text": [
            "0.0843223954925866\n"
          ]
        }
      ]
    },
    {
      "cell_type": "code",
      "source": [
        "#(b) Between 1225 and 1325 recycle plastic bottles in a week.\n",
        "b= binom.cdf(1325,p=0.75,n=1700)-binom.cdf(1225,p=0.75,n=1700)\n",
        "print(b)"
      ],
      "metadata": {
        "colab": {
          "base_uri": "https://localhost:8080/"
        },
        "id": "sgJWxW-uspRx",
        "outputId": "18742d9a-c6c4-4fbe-d151-dd744c294382"
      },
      "execution_count": null,
      "outputs": [
        {
          "output_type": "stream",
          "name": "stdout",
          "text": [
            "0.9948634084177241\n"
          ]
        }
      ]
    },
    {
      "cell_type": "markdown",
      "source": [
        "**Question 6**\n",
        "\n",
        "Human behavior can sometimes be modeled as a Poisson process. Suppose when you send a tweet in Twitter, the retweets follow a Poisson process, and the mean time between retweets is 7 minutes."
      ],
      "metadata": {
        "id": "pE1tFvPEtO1S"
      }
    },
    {
      "cell_type": "code",
      "source": [
        "from scipy.stats import expon"
      ],
      "metadata": {
        "id": "CFKio7d4tdBF"
      },
      "execution_count": null,
      "outputs": []
    },
    {
      "cell_type": "code",
      "source": [
        "#(a) What is the probability that a retweet occurs in less than 8 minutes after you send your tweet?\n",
        "a=expon.cdf(8,scale=7)\n",
        "print(a)"
      ],
      "metadata": {
        "colab": {
          "base_uri": "https://localhost:8080/"
        },
        "id": "uDrqK5Y_tOTC",
        "outputId": "98773b32-b5ca-4e56-99e1-e1a800294a9c"
      },
      "execution_count": null,
      "outputs": [
        {
          "output_type": "stream",
          "name": "stdout",
          "text": [
            "0.6810934426760296\n"
          ]
        }
      ]
    },
    {
      "cell_type": "code",
      "source": [
        "#(b) How many retweets would you expect after 22 hours?\n",
        "b=22*60/7\n",
        "print(b)"
      ],
      "metadata": {
        "colab": {
          "base_uri": "https://localhost:8080/"
        },
        "id": "hYKTH_TgtzsP",
        "outputId": "09c89a1b-683f-408f-f4ca-24e66f468523"
      },
      "execution_count": null,
      "outputs": [
        {
          "output_type": "stream",
          "name": "stdout",
          "text": [
            "188.57142857142858\n"
          ]
        }
      ]
    }
  ]
}