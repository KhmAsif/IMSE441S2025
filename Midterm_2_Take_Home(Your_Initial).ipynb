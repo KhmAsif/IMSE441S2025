{
  "nbformat": 4,
  "nbformat_minor": 0,
  "metadata": {
    "colab": {
      "provenance": [],
      "authorship_tag": "ABX9TyPkaI4aRxV+NK2DSOpKrMhD",
      "include_colab_link": true
    },
    "kernelspec": {
      "name": "python3",
      "display_name": "Python 3"
    },
    "language_info": {
      "name": "python"
    }
  },
  "cells": [
    {
      "cell_type": "markdown",
      "metadata": {
        "id": "view-in-github",
        "colab_type": "text"
      },
      "source": [
        "<a href=\"https://colab.research.google.com/github/KhmAsif/IMSE441S2025/blob/main/Midterm_2_Take_Home(Your_Initial).ipynb\" target=\"_parent\"><img src=\"https://colab.research.google.com/assets/colab-badge.svg\" alt=\"Open In Colab\"/></a>"
      ]
    },
    {
      "cell_type": "markdown",
      "source": [
        "# **Question 1** (8 points)\n",
        "The life in hours of a 75-watt light bulb is known to be normally distributed with sigma= 25 hours. A random sample of 21 bulbs has a mean life of X-bar= 1014 hours.\n",
        "\n",
        "(a) Construct a 95% two-sided confidence interval on the mean life.\n",
        "\n",
        "(b) Construct a 95% lower-confidence bound on the mean life. Compare the lower bound of this confidence interval with the one in part (a).\n",
        "\n",
        "(C) Construct a 99% lower-confidence bound on the mean life. Compare the lower bound of this confidence interval with the one in part (b)."
      ],
      "metadata": {
        "id": "jfFss76Wl6vQ"
      }
    },
    {
      "cell_type": "markdown",
      "source": [
        "# **Question 2** (12 points)\n",
        "The female students in an undergraduate engineering core course at ASU self-reported their heights to the nearest inch.\n",
        "\n",
        "The data:\n",
        "62, 64, 61, 67, 65, 68, 61, 65, 60, 65, 64, 63, 59, 68, 64, 66, 68, 69, 65, 67, 62, 66, 68, 67, 66, 65, 69, 65, 69, 65, 67, 67, 65, 63, 64, 67, 65.\n",
        "\n",
        "a. Can you support a claim that the mean height of female engineering students at ASU is at least 65 inches?\n",
        "\n",
        "H0 : mu = 65,   H1 : mu  > 65\n",
        "\n",
        "Use α = 0.05. Find the P-value.\n",
        "\n",
        "b. Check the normality assumption.\n",
        "\n",
        "c. Compute the power of the test if the true mean height is 68 inches.\n",
        "\n",
        "d. What sample size would be required to detect a true mean height of 66 inches if you wanted the power of the test to be at least 0.8?\n"
      ],
      "metadata": {
        "id": "_Ma_yK-cmAx_"
      }
    },
    {
      "cell_type": "markdown",
      "source": [
        "# **Question 3** (12 Points)\n",
        "A water supply company is trying to benchmark their water quality with the best supplier in the market. Hardness of water from two different water treatment facilities is investigated. The quality board believes the quality is not up to the mark. Observed water hardness (in ppm) for a random sample of faucets is as follows:\n",
        "\n",
        "Facility 1\t 63,\t57,\t58,\t62,\t66,\t58,\t61,\t60,\t55,\t62,\t59,\t60,\t58\n",
        "\n",
        "Facility 2\t 69,\t65,\t59,\t62,\t61,\t57,\t59,\t60,\t60,\t62,\t61,\t66,\t68\n",
        "\n",
        "a) Check for variance. \\\\\n",
        "\n",
        "b) Is there enough evidence to support the claim that two facilities supply water of different hardness? What type of hypothesis test you should use and why?\n"
      ],
      "metadata": {
        "id": "sOltrg3X5qsC"
      }
    },
    {
      "cell_type": "markdown",
      "source": [
        "# **Question 4** (8 points)\n",
        "The quality team decides to improve their water quality (decrease hardness) by changing extraction filters. The before and after quality observations are given below.\n",
        "\n",
        "a) Did the mean hardness truely decrease after the modifaction? \\\\\n",
        "\n",
        "b) Construct a 99% two-sided confidence interval for the difference"
      ],
      "metadata": {
        "id": "eJUa6TeZ6MOr"
      }
    },
    {
      "cell_type": "markdown",
      "source": [
        "![image.png](data:image/png;base64,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)"
      ],
      "metadata": {
        "id": "Y06lq3YZ61Rh"
      }
    }
  ]
}