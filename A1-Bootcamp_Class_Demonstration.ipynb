{
  "nbformat": 4,
  "nbformat_minor": 0,
  "metadata": {
    "colab": {
      "provenance": [],
      "mount_file_id": "19uqPsXfFMZ-Tn6xz6cTbCmJeORGrYlne",
      "authorship_tag": "ABX9TyM/Ua9ia3CKqlTROV94z8h0",
      "include_colab_link": true
    },
    "kernelspec": {
      "name": "python3",
      "display_name": "Python 3"
    },
    "language_info": {
      "name": "python"
    }
  },
  "cells": [
    {
      "cell_type": "markdown",
      "metadata": {
        "id": "view-in-github",
        "colab_type": "text"
      },
      "source": [
        "<a href=\"https://colab.research.google.com/github/KhmAsif/IMSE441S2025/blob/main/Bootcamp_Class_Demonstration.ipynb\" target=\"_parent\"><img src=\"https://colab.research.google.com/assets/colab-badge.svg\" alt=\"Open In Colab\"/></a>"
      ]
    },
    {
      "cell_type": "markdown",
      "source": [
        "**Mounting Drive**"
      ],
      "metadata": {
        "id": "KypWRm-bMYIV"
      }
    },
    {
      "cell_type": "code",
      "source": [
        "from google.colab import drive\n",
        "drive.mount('/content/drive')"
      ],
      "metadata": {
        "id": "K_2an0tFNDd1"
      },
      "execution_count": null,
      "outputs": []
    },
    {
      "cell_type": "markdown",
      "source": [
        "**Uploading files**"
      ],
      "metadata": {
        "id": "ggVu_DcMNair"
      }
    },
    {
      "cell_type": "code",
      "source": [
        "import pandas as pd\n",
        "coffee= pd.read_csv('https://raw.githubusercontent.com/KhmAsif/IMSE441S2025/refs/heads/main/Coffee.csv')\n",
        "coffee"
      ],
      "metadata": {
        "id": "kqCH5MWSPXU8"
      },
      "execution_count": null,
      "outputs": []
    },
    {
      "cell_type": "code",
      "source": [
        "import pandas as pd\n",
        "coffee= pd.read_csv('/content/drive/MyDrive/IMSE_441/Coffee.csv')\n",
        "coffee"
      ],
      "metadata": {
        "id": "A-6Eb0KTNjJH"
      },
      "execution_count": null,
      "outputs": []
    },
    {
      "cell_type": "markdown",
      "source": [
        "**Basic Arithmatics**"
      ],
      "metadata": {
        "id": "TiAFNOyfdiZt"
      }
    },
    {
      "cell_type": "code",
      "execution_count": null,
      "metadata": {
        "id": "z6czRNihhDfj"
      },
      "outputs": [],
      "source": [
        "#Addition\n",
        "4+5"
      ]
    },
    {
      "cell_type": "code",
      "source": [
        "#substraction\n",
        "5-4"
      ],
      "metadata": {
        "id": "an6PyMw0hXIn"
      },
      "execution_count": null,
      "outputs": []
    },
    {
      "cell_type": "code",
      "source": [
        "#multiplication\n",
        "4*5"
      ],
      "metadata": {
        "id": "GOXwnt03hZ4f"
      },
      "execution_count": null,
      "outputs": []
    },
    {
      "cell_type": "code",
      "source": [
        "#Division\n",
        "5/4"
      ],
      "metadata": {
        "id": "DNc-J41shdUf"
      },
      "execution_count": null,
      "outputs": []
    },
    {
      "cell_type": "code",
      "source": [
        "#Power\n",
        "2**16"
      ],
      "metadata": {
        "id": "jJCwLGa2pjWz"
      },
      "execution_count": null,
      "outputs": []
    },
    {
      "cell_type": "code",
      "source": [
        "#Floor Division\n",
        "100//75\n"
      ],
      "metadata": {
        "id": "zxRd7wK7poSz"
      },
      "execution_count": null,
      "outputs": []
    },
    {
      "cell_type": "code",
      "source": [
        "#Modulus/Remainder\n",
        "100%75"
      ],
      "metadata": {
        "id": "p6Gk8D9PpzDT"
      },
      "execution_count": null,
      "outputs": []
    },
    {
      "cell_type": "code",
      "source": [
        "#Order of operation\n",
        "10+5*9-7"
      ],
      "metadata": {
        "id": "IQ7ztaKQqdnd"
      },
      "execution_count": null,
      "outputs": []
    },
    {
      "cell_type": "code",
      "source": [
        "(10+5)*9-7"
      ],
      "metadata": {
        "id": "nyEiEQRPqy0D"
      },
      "execution_count": null,
      "outputs": []
    },
    {
      "cell_type": "markdown",
      "source": [
        "**Math Library**"
      ],
      "metadata": {
        "id": "sMORdTupeKpT"
      }
    },
    {
      "cell_type": "code",
      "source": [
        "import math"
      ],
      "metadata": {
        "id": "Ir3APL7Irm4n"
      },
      "execution_count": 10,
      "outputs": []
    },
    {
      "cell_type": "code",
      "source": [
        "math.sqrt(16)"
      ],
      "metadata": {
        "id": "It1b3ibArrnH"
      },
      "execution_count": null,
      "outputs": []
    },
    {
      "cell_type": "code",
      "source": [
        "math.log(10)"
      ],
      "metadata": {
        "id": "S2GkkBT6rySr"
      },
      "execution_count": null,
      "outputs": []
    },
    {
      "cell_type": "code",
      "source": [
        "math.exp(3)"
      ],
      "metadata": {
        "id": "sHiOwtuPr8Da"
      },
      "execution_count": null,
      "outputs": []
    },
    {
      "cell_type": "markdown",
      "source": [
        "**Data Types**"
      ],
      "metadata": {
        "id": "bprsVe4oeRQy"
      }
    },
    {
      "cell_type": "code",
      "source": [
        "type(10)"
      ],
      "metadata": {
        "id": "Y5IS58UnsH3J"
      },
      "execution_count": null,
      "outputs": []
    },
    {
      "cell_type": "code",
      "source": [
        "type(10.0)"
      ],
      "metadata": {
        "id": "sUdHg_lH3I0P"
      },
      "execution_count": null,
      "outputs": []
    },
    {
      "cell_type": "markdown",
      "source": [
        "**String**"
      ],
      "metadata": {
        "id": "F0zTVs74eXt7"
      }
    },
    {
      "cell_type": "code",
      "source": [
        "x = 'python'\n",
        "x"
      ],
      "metadata": {
        "id": "mURNVC7P3Non"
      },
      "execution_count": null,
      "outputs": []
    },
    {
      "cell_type": "code",
      "source": [
        "'Python for Analytics'"
      ],
      "metadata": {
        "id": "7Mv02Kve4w_O"
      },
      "execution_count": null,
      "outputs": []
    },
    {
      "cell_type": "code",
      "source": [
        "\"We're IMSE 441\""
      ],
      "metadata": {
        "id": "UNnF-bei41wW"
      },
      "execution_count": null,
      "outputs": []
    },
    {
      "cell_type": "markdown",
      "source": [
        "**Boolean**"
      ],
      "metadata": {
        "id": "mk4Uqvy5ebA7"
      }
    },
    {
      "cell_type": "code",
      "source": [
        "type(True)"
      ],
      "metadata": {
        "id": "5DUXVQRw6kle"
      },
      "execution_count": null,
      "outputs": []
    },
    {
      "cell_type": "code",
      "source": [
        "10<20"
      ],
      "metadata": {
        "id": "W3OI0QJ26-lU"
      },
      "execution_count": null,
      "outputs": []
    },
    {
      "cell_type": "code",
      "source": [
        "5==6"
      ],
      "metadata": {
        "id": "yBE3SyMD60KN"
      },
      "execution_count": null,
      "outputs": []
    },
    {
      "cell_type": "code",
      "source": [
        "type(False)"
      ],
      "metadata": {
        "id": "Itf2IYJk6vf9"
      },
      "execution_count": null,
      "outputs": []
    },
    {
      "cell_type": "markdown",
      "source": [
        "**Multiples**"
      ],
      "metadata": {
        "id": "iS-LuUmYefwK"
      }
    },
    {
      "cell_type": "code",
      "source": [
        "new_list = [10, 10, 9.3, 'IMSE', \"441\"]\n",
        "new_list"
      ],
      "metadata": {
        "id": "j9e_o-LX7fPl"
      },
      "execution_count": null,
      "outputs": []
    },
    {
      "cell_type": "code",
      "source": [
        "imse = [1, 2, '441', 'spring']\n",
        "imse"
      ],
      "metadata": {
        "id": "6PqJYnwXVonc"
      },
      "execution_count": null,
      "outputs": []
    },
    {
      "cell_type": "code",
      "source": [
        "new_tuple = (10, 10, 9.3, 'IMSE', \"441\")\n",
        "new_tuple"
      ],
      "metadata": {
        "id": "zn_s2ruU8Mds"
      },
      "execution_count": null,
      "outputs": []
    },
    {
      "cell_type": "code",
      "source": [
        "new_list [2]"
      ],
      "metadata": {
        "id": "QS9oUbI8ShaJ"
      },
      "execution_count": null,
      "outputs": []
    },
    {
      "cell_type": "code",
      "source": [
        "new_list[2] = 101\n",
        "new_list"
      ],
      "metadata": {
        "id": "6TCSqrx_SoKJ"
      },
      "execution_count": null,
      "outputs": []
    },
    {
      "cell_type": "code",
      "source": [
        "new_set = {10, 10, 9.3, 'IMSE', \"441\"}\n",
        "new_set"
      ],
      "metadata": {
        "id": "zI0e9YWX8a3c"
      },
      "execution_count": null,
      "outputs": []
    },
    {
      "cell_type": "code",
      "source": [
        "#Set operations\n",
        "a_set = {10,541}"
      ],
      "metadata": {
        "id": "DoS0_eilUETZ"
      },
      "execution_count": 30,
      "outputs": []
    },
    {
      "cell_type": "code",
      "source": [
        "set_union = new_set.union(a_set)\n",
        "set_union"
      ],
      "metadata": {
        "id": "oJ7v-WvTU5jZ"
      },
      "execution_count": null,
      "outputs": []
    },
    {
      "cell_type": "code",
      "source": [
        "set_intersection = new_set.intersection(a_set)\n",
        "set_intersection"
      ],
      "metadata": {
        "id": "P4k2ay_AVM0I"
      },
      "execution_count": null,
      "outputs": []
    },
    {
      "cell_type": "code",
      "source": [
        "#Interchanging sets & lists\n",
        "x = [1,1,1,3,3,3,5,7,9,9,9]\n",
        "y = set(x)"
      ],
      "metadata": {
        "id": "kxAEK1JWVkvn"
      },
      "execution_count": 33,
      "outputs": []
    },
    {
      "cell_type": "code",
      "source": [
        "x"
      ],
      "metadata": {
        "id": "jTLd5yZVZGIk"
      },
      "execution_count": null,
      "outputs": []
    },
    {
      "cell_type": "code",
      "source": [
        "y"
      ],
      "metadata": {
        "id": "fO0f-GwiZJ9D"
      },
      "execution_count": null,
      "outputs": []
    },
    {
      "cell_type": "code",
      "source": [
        "x=list(y)\n",
        "x"
      ],
      "metadata": {
        "id": "B_fUWiDPV7u4"
      },
      "execution_count": null,
      "outputs": []
    },
    {
      "cell_type": "code",
      "source": [
        "new_dict = {'term':('spring','fall'),'course':441, 'topic':'python'}\n",
        "new_dict['term']"
      ],
      "metadata": {
        "id": "7hpMqraQAGKi"
      },
      "execution_count": null,
      "outputs": []
    },
    {
      "cell_type": "code",
      "source": [
        "new_dict.keys()"
      ],
      "metadata": {
        "id": "aiI4THlWeyrb"
      },
      "execution_count": null,
      "outputs": []
    },
    {
      "cell_type": "code",
      "source": [
        "new_dict.values()"
      ],
      "metadata": {
        "id": "iFc8KrTTe_n1"
      },
      "execution_count": null,
      "outputs": []
    },
    {
      "cell_type": "markdown",
      "source": [
        "**Mutability**"
      ],
      "metadata": {
        "id": "MtlZhckteu-s"
      }
    },
    {
      "cell_type": "code",
      "source": [
        "new_list = [10, 10, 9.3, 'IMSE', \"441\",101]"
      ],
      "metadata": {
        "id": "xjbmMlcgMmcz"
      },
      "execution_count": 42,
      "outputs": []
    },
    {
      "cell_type": "code",
      "source": [
        "new_list"
      ],
      "metadata": {
        "id": "26WLJUgpdAiM"
      },
      "execution_count": null,
      "outputs": []
    },
    {
      "cell_type": "code",
      "source": [
        "new_list[2]"
      ],
      "metadata": {
        "id": "U46UpYs1NCfS"
      },
      "execution_count": null,
      "outputs": []
    },
    {
      "cell_type": "code",
      "source": [
        "new_list[2]=5"
      ],
      "metadata": {
        "id": "YNyYMmbFZ2_H"
      },
      "execution_count": 45,
      "outputs": []
    },
    {
      "cell_type": "code",
      "source": [
        "new_list"
      ],
      "metadata": {
        "id": "SdwBggg2Z9G8"
      },
      "execution_count": null,
      "outputs": []
    },
    {
      "cell_type": "code",
      "source": [
        "new_tuple = (10, 10, 9.3, 'IMSE', \"441\")\n",
        "new_tuple"
      ],
      "metadata": {
        "id": "VP2_TCaUuLBQ"
      },
      "execution_count": null,
      "outputs": []
    },
    {
      "cell_type": "code",
      "source": [
        "new_tuple[2]"
      ],
      "metadata": {
        "id": "B0McpJD8a3vg"
      },
      "execution_count": null,
      "outputs": []
    },
    {
      "cell_type": "code",
      "source": [
        "new_tuple[2]=5"
      ],
      "metadata": {
        "id": "_MZvu-xsa-Yr"
      },
      "execution_count": null,
      "outputs": []
    },
    {
      "cell_type": "code",
      "source": [
        "N_list =[ 1, 2, 2,2, 3 ,3, 4, 5]\n"
      ],
      "metadata": {
        "id": "ulGg1z37Xe9N"
      },
      "execution_count": 53,
      "outputs": []
    },
    {
      "cell_type": "code",
      "source": [
        "N_list"
      ],
      "metadata": {
        "id": "sKFUDGC7uONo"
      },
      "execution_count": null,
      "outputs": []
    },
    {
      "cell_type": "code",
      "source": [
        "n_set = set(N_list)"
      ],
      "metadata": {
        "id": "g03PZnp1X0vV"
      },
      "execution_count": 51,
      "outputs": []
    },
    {
      "cell_type": "code",
      "source": [
        "n_set"
      ],
      "metadata": {
        "id": "_5JCNk08u4yk"
      },
      "execution_count": null,
      "outputs": []
    },
    {
      "cell_type": "code",
      "source": [
        "N_list= list(n_set)\n",
        "N_list"
      ],
      "metadata": {
        "id": "Cs78mYliYQ0e"
      },
      "execution_count": null,
      "outputs": []
    },
    {
      "cell_type": "markdown",
      "source": [
        "**Variable Assignment**"
      ],
      "metadata": {
        "id": "xcr0CKXtm4vM"
      }
    },
    {
      "cell_type": "code",
      "source": [
        "var_1 = 101\n",
        "var_1"
      ],
      "metadata": {
        "id": "p5ztvSnFP3sK"
      },
      "execution_count": null,
      "outputs": []
    },
    {
      "cell_type": "code",
      "source": [
        "var_2 = 'string'\n",
        "var_2"
      ],
      "metadata": {
        "id": "pqLfEswWaiR-"
      },
      "execution_count": null,
      "outputs": []
    },
    {
      "cell_type": "code",
      "source": [
        "var_2"
      ],
      "metadata": {
        "id": "V-AutTXpvnZy"
      },
      "execution_count": null,
      "outputs": []
    },
    {
      "cell_type": "code",
      "source": [
        "var_1 = 200\n",
        "var_1"
      ],
      "metadata": {
        "id": "J_K8koenP9Cq"
      },
      "execution_count": null,
      "outputs": []
    },
    {
      "cell_type": "code",
      "source": [
        "var_1"
      ],
      "metadata": {
        "id": "oEVKSJWJ3cmQ"
      },
      "execution_count": null,
      "outputs": []
    },
    {
      "cell_type": "code",
      "source": [
        "x= [var_1, 10, 9]"
      ],
      "metadata": {
        "id": "i7U1lYsN3rlA"
      },
      "execution_count": null,
      "outputs": []
    },
    {
      "cell_type": "code",
      "source": [
        "x[0]"
      ],
      "metadata": {
        "id": "p-cfRBvz3xeI"
      },
      "execution_count": null,
      "outputs": []
    },
    {
      "cell_type": "code",
      "source": [
        "Var_1 = 300\n",
        "Var_1"
      ],
      "metadata": {
        "id": "hMwwil-5AFOb"
      },
      "execution_count": null,
      "outputs": []
    },
    {
      "cell_type": "code",
      "source": [
        "var_1"
      ],
      "metadata": {
        "id": "7odOXsrFaXcG"
      },
      "execution_count": null,
      "outputs": []
    },
    {
      "cell_type": "markdown",
      "source": [
        "**Indexing and Slicing**"
      ],
      "metadata": {
        "id": "fHI1oiqngpmD"
      }
    },
    {
      "cell_type": "code",
      "source": [
        "x= [1, 3, 5, 10, 21 , 23, 27, 31, 36, 39, 41]"
      ],
      "metadata": {
        "id": "u99Y0j-D5nVE"
      },
      "execution_count": 80,
      "outputs": []
    },
    {
      "cell_type": "code",
      "source": [
        "y=x[5]*2\n",
        "y"
      ],
      "metadata": {
        "id": "FbS0uwemdFjc"
      },
      "execution_count": null,
      "outputs": []
    },
    {
      "cell_type": "code",
      "source": [
        "y = x[-2]*2\n",
        "y"
      ],
      "metadata": {
        "id": "It_PkszW_kZ4"
      },
      "execution_count": null,
      "outputs": []
    },
    {
      "cell_type": "code",
      "source": [
        "z = x[1:4]\n",
        "z"
      ],
      "metadata": {
        "id": "03p0LPmo3ix6"
      },
      "execution_count": null,
      "outputs": []
    },
    {
      "cell_type": "code",
      "source": [
        "y = x[2:]\n",
        "y"
      ],
      "metadata": {
        "id": "Qx93yvl6r9Ki"
      },
      "execution_count": null,
      "outputs": []
    },
    {
      "cell_type": "code",
      "source": [
        "new_x=x[0:10:3]\n",
        "new_x"
      ],
      "metadata": {
        "id": "C_hXKwGw5t4K"
      },
      "execution_count": null,
      "outputs": []
    },
    {
      "cell_type": "code",
      "source": [
        "rv= x[5:1:-2]\n",
        "rv"
      ],
      "metadata": {
        "id": "H8j6PpfgAkiU"
      },
      "execution_count": null,
      "outputs": []
    },
    {
      "cell_type": "code",
      "source": [
        "x_str = 'Python'"
      ],
      "metadata": {
        "id": "9G9f2tU7n320"
      },
      "execution_count": 83,
      "outputs": []
    },
    {
      "cell_type": "code",
      "source": [
        "x_str[3]"
      ],
      "metadata": {
        "id": "A8j6nsXxd_uM"
      },
      "execution_count": null,
      "outputs": []
    },
    {
      "cell_type": "code",
      "source": [
        "y_str= x_str[-2:]\n",
        "y_str"
      ],
      "metadata": {
        "id": "h8k4O2uW3Lrs"
      },
      "execution_count": null,
      "outputs": []
    },
    {
      "cell_type": "markdown",
      "source": [
        "**Functions and Method**"
      ],
      "metadata": {
        "id": "nbZFcNq0fam2"
      }
    },
    {
      "cell_type": "code",
      "source": [
        "print('IMSE 441')"
      ],
      "metadata": {
        "id": "OP-lt9CGfhGu"
      },
      "execution_count": null,
      "outputs": []
    },
    {
      "cell_type": "code",
      "source": [
        "def my_function(food):\n",
        "  for x in food:\n",
        "    print(x)\n",
        "\n",
        "fruits = [\"apple\", \"banana\", \"cherry\"]\n",
        "\n",
        "my_function(fruits)"
      ],
      "metadata": {
        "id": "A4ucgXry3pcL"
      },
      "execution_count": null,
      "outputs": []
    },
    {
      "cell_type": "code",
      "source": [
        "x= [1, 3, 5, 10, 21 , 23, 27, 31, 36, 39, 41]\n",
        "x"
      ],
      "metadata": {
        "id": "L2ocCJ5H64oV"
      },
      "execution_count": null,
      "outputs": []
    },
    {
      "cell_type": "code",
      "source": [
        "x.append(50)\n",
        "x"
      ],
      "metadata": {
        "id": "sDM06n6FeeyZ"
      },
      "execution_count": null,
      "outputs": []
    },
    {
      "cell_type": "code",
      "source": [
        "x.remove(21)\n",
        "x"
      ],
      "metadata": {
        "id": "wyUtLD098F05"
      },
      "execution_count": null,
      "outputs": []
    },
    {
      "cell_type": "code",
      "source": [
        "x.reverse()\n",
        "x"
      ],
      "metadata": {
        "id": "Wi18RKGn9MtI"
      },
      "execution_count": null,
      "outputs": []
    },
    {
      "cell_type": "code",
      "source": [
        "x.pop()\n",
        "x"
      ],
      "metadata": {
        "id": "HqbM8qWx9dU4"
      },
      "execution_count": null,
      "outputs": []
    },
    {
      "cell_type": "code",
      "source": [
        "y = sum(x)"
      ],
      "metadata": {
        "id": "78oRKSwu8a3B"
      },
      "execution_count": null,
      "outputs": []
    },
    {
      "cell_type": "code",
      "source": [
        "n = len(x)"
      ],
      "metadata": {
        "id": "bruoQcZu8nIo"
      },
      "execution_count": null,
      "outputs": []
    },
    {
      "cell_type": "code",
      "source": [
        "mean = y/n\n",
        "mean"
      ],
      "metadata": {
        "id": "g-Jn2fX58rLw"
      },
      "execution_count": null,
      "outputs": []
    },
    {
      "cell_type": "code",
      "source": [
        "max(x)"
      ],
      "metadata": {
        "id": "rYvQdMrH89Sw"
      },
      "execution_count": null,
      "outputs": []
    },
    {
      "cell_type": "code",
      "source": [
        "min(x)"
      ],
      "metadata": {
        "id": "1p2yPKlB9BfY"
      },
      "execution_count": null,
      "outputs": []
    },
    {
      "cell_type": "code",
      "source": [
        "x.sort()\n",
        "x"
      ],
      "metadata": {
        "id": "t5sfqph4_ARp"
      },
      "execution_count": null,
      "outputs": []
    },
    {
      "cell_type": "markdown",
      "source": [
        "**Numpy Array**"
      ],
      "metadata": {
        "id": "Khsv65FNg0lA"
      }
    },
    {
      "cell_type": "code",
      "source": [
        "import numpy as np"
      ],
      "metadata": {
        "id": "-Bkp8ZY7vYQC"
      },
      "execution_count": 90,
      "outputs": []
    },
    {
      "cell_type": "code",
      "source": [
        "n_array =np.array([[1, 2, 3],[4, 5, 6],[7, 8, 9]])\n",
        "n_array"
      ],
      "metadata": {
        "id": "8Llra-gc3WZW"
      },
      "execution_count": null,
      "outputs": []
    },
    {
      "cell_type": "code",
      "source": [
        "n_array = np.random.randn(3, 3)\n",
        "n_array"
      ],
      "metadata": {
        "id": "P7cRqQ0-5Sgi"
      },
      "execution_count": null,
      "outputs": []
    },
    {
      "cell_type": "code",
      "source": [
        "type(n_array)\n"
      ],
      "metadata": {
        "id": "WGCj9gg885fZ"
      },
      "execution_count": null,
      "outputs": []
    },
    {
      "cell_type": "code",
      "source": [
        "n_array.shape"
      ],
      "metadata": {
        "id": "M5pYXtLn9P7Q"
      },
      "execution_count": null,
      "outputs": []
    },
    {
      "cell_type": "code",
      "source": [
        "a_list= [1,2,3]\n",
        "b_list= [4,5,6]\n",
        "c_list= [7,8,9]"
      ],
      "metadata": {
        "id": "zdxqbF4O6NuP"
      },
      "execution_count": 95,
      "outputs": []
    },
    {
      "cell_type": "code",
      "source": [
        "N_array = np.array([a_list,b_list,c_list])\n",
        "N_array"
      ],
      "metadata": {
        "id": "aODhySKf6hm-"
      },
      "execution_count": null,
      "outputs": []
    },
    {
      "cell_type": "code",
      "source": [
        "N_array[1,2]"
      ],
      "metadata": {
        "id": "z1QhXl5D-csf"
      },
      "execution_count": null,
      "outputs": []
    },
    {
      "cell_type": "code",
      "source": [
        "z_array = np.zeros([3,3])\n",
        "z_array"
      ],
      "metadata": {
        "id": "xPRAWLng7JJ9"
      },
      "execution_count": null,
      "outputs": []
    },
    {
      "cell_type": "code",
      "source": [
        "i_array = np.identity(5)\n",
        "i_array"
      ],
      "metadata": {
        "id": "esv1YWHK7k5s"
      },
      "execution_count": null,
      "outputs": []
    },
    {
      "cell_type": "code",
      "source": [
        "o_array = np.ones([3,5])\n",
        "o_array"
      ],
      "metadata": {
        "id": "1SXw3Ipz8FWT"
      },
      "execution_count": null,
      "outputs": []
    },
    {
      "cell_type": "code",
      "source": [
        "r_array = np.random.randint(1,100,[5,8])\n",
        "r_array"
      ],
      "metadata": {
        "id": "MdcNpgiZBf9A"
      },
      "execution_count": null,
      "outputs": []
    },
    {
      "cell_type": "code",
      "source": [
        "t_array = r_array.transpose()\n",
        "t_array"
      ],
      "metadata": {
        "id": "eFMC_YCebshZ"
      },
      "execution_count": null,
      "outputs": []
    },
    {
      "cell_type": "code",
      "source": [
        "rt_array = np.rot90(r_array)\n",
        "rt_array"
      ],
      "metadata": {
        "id": "wQc6-XNpcCkp"
      },
      "execution_count": null,
      "outputs": []
    },
    {
      "cell_type": "code",
      "source": [
        "c_array = np.concatenate((t_array,rt_array), axis=1)\n",
        "c_array"
      ],
      "metadata": {
        "id": "6eAH2PgagZ9h"
      },
      "execution_count": null,
      "outputs": []
    },
    {
      "cell_type": "code",
      "source": [
        "rv_array = r_array[::-1,::-1]\n",
        "rv_array"
      ],
      "metadata": {
        "id": "OvxLv-UVdCnr"
      },
      "execution_count": null,
      "outputs": []
    },
    {
      "cell_type": "code",
      "source": [
        "flat_array = r_array.flatten()\n",
        "flat_array"
      ],
      "metadata": {
        "id": "nCAvGoq3djEg"
      },
      "execution_count": null,
      "outputs": []
    },
    {
      "cell_type": "code",
      "source": [
        "rs_array = r_array.reshape([4,10])\n",
        "rs_array"
      ],
      "metadata": {
        "id": "ix42mWJGd1RJ"
      },
      "execution_count": null,
      "outputs": []
    },
    {
      "cell_type": "code",
      "source": [
        "s_array= r_array[1:4,3:7]\n",
        "s_array"
      ],
      "metadata": {
        "id": "dtaxoR-qCwZ1"
      },
      "execution_count": null,
      "outputs": []
    },
    {
      "cell_type": "code",
      "source": [
        "s1_array = r_array[0:3,0:4]\n",
        "s1_array\n"
      ],
      "metadata": {
        "id": "n8w-NWI5bEJR"
      },
      "execution_count": null,
      "outputs": []
    },
    {
      "cell_type": "code",
      "source": [
        "s2_array = r_array[0:4,0:3]\n",
        "s2_array"
      ],
      "metadata": {
        "id": "Qs9REQRqbdjq"
      },
      "execution_count": null,
      "outputs": []
    },
    {
      "cell_type": "code",
      "source": [
        "a_array = s_array+s1_array\n",
        "a_array"
      ],
      "metadata": {
        "id": "djMCppJLe30Z"
      },
      "execution_count": null,
      "outputs": []
    },
    {
      "cell_type": "code",
      "source": [
        "m_array = s_array*s1_array\n",
        "m_array"
      ],
      "metadata": {
        "id": "jUyefQkYfmHp"
      },
      "execution_count": null,
      "outputs": []
    },
    {
      "cell_type": "code",
      "source": [
        "m1_array = s_array*2\n",
        "m1_array"
      ],
      "metadata": {
        "id": "Cs3Myttyik-5"
      },
      "execution_count": null,
      "outputs": []
    },
    {
      "cell_type": "code",
      "source": [
        "mt_array = np.dot(s_array,s2_array)\n",
        "mt_array"
      ],
      "metadata": {
        "id": "CBsCxzwsi02A"
      },
      "execution_count": null,
      "outputs": []
    },
    {
      "cell_type": "code",
      "source": [
        "sq_array= np.sqrt(s2_array)\n",
        "sq_array"
      ],
      "metadata": {
        "id": "kyDj6MlwkSh6"
      },
      "execution_count": null,
      "outputs": []
    },
    {
      "cell_type": "markdown",
      "source": [
        "**Pandas**"
      ],
      "metadata": {
        "id": "_tiej4EPhSKI"
      }
    },
    {
      "cell_type": "code",
      "source": [
        "import pandas as pd"
      ],
      "metadata": {
        "id": "LcZpYH9Xrsza"
      },
      "execution_count": null,
      "outputs": []
    },
    {
      "cell_type": "code",
      "source": [
        "df = pd.DataFrame({'State':['KS','MO', 'NY'],'Pop':[1.5, 2.1, 3.5], 'Year':[2010,2011,2012]})\n",
        "df"
      ],
      "metadata": {
        "id": "S_ugghvKs61T"
      },
      "execution_count": null,
      "outputs": []
    },
    {
      "cell_type": "code",
      "source": [
        "df['Pop'].describe()"
      ],
      "metadata": {
        "id": "AK6_Heept9mJ"
      },
      "execution_count": null,
      "outputs": []
    },
    {
      "cell_type": "code",
      "source": [
        "df[df['Pop']>2]"
      ],
      "metadata": {
        "id": "7VWE7-3l2h6n"
      },
      "execution_count": null,
      "outputs": []
    },
    {
      "cell_type": "code",
      "source": [
        "df.iloc[1]"
      ],
      "metadata": {
        "id": "d6wyGSP6xteN"
      },
      "execution_count": null,
      "outputs": []
    },
    {
      "cell_type": "code",
      "source": [
        "df.iloc[0:2,0:3]"
      ],
      "metadata": {
        "id": "vCS_c3VO1_xW"
      },
      "execution_count": null,
      "outputs": []
    },
    {
      "cell_type": "code",
      "source": [
        "df['Year']"
      ],
      "metadata": {
        "id": "EhSm7wq6wnEc"
      },
      "execution_count": null,
      "outputs": []
    },
    {
      "cell_type": "code",
      "source": [
        "df[\"Eastern\"]=['No', 'No', 'Yes']\n",
        "df"
      ],
      "metadata": {
        "id": "5Ych1lhLva4r"
      },
      "execution_count": null,
      "outputs": []
    },
    {
      "cell_type": "code",
      "source": [
        "del df['Pop']\n",
        "df"
      ],
      "metadata": {
        "id": "YYAZI_Few4gE"
      },
      "execution_count": null,
      "outputs": []
    },
    {
      "cell_type": "code",
      "source": [
        "df.describe()"
      ],
      "metadata": {
        "id": "GtsWN9UK4Fy_"
      },
      "execution_count": null,
      "outputs": []
    },
    {
      "cell_type": "code",
      "source": [
        "df.info()"
      ],
      "metadata": {
        "id": "iCjm2EB14aO3"
      },
      "execution_count": null,
      "outputs": []
    },
    {
      "cell_type": "code",
      "source": [
        "coffee= pd.read_csv('/content/drive/MyDrive/IMSE_441/Coffee.csv')\n",
        "coffee"
      ],
      "metadata": {
        "id": "Sh3Rl5wAaC5F"
      },
      "execution_count": null,
      "outputs": []
    },
    {
      "cell_type": "code",
      "source": [
        "coffee['Product'] = Coffee['Product'].str.replace(\" \", \"_\")\n",
        "coffee"
      ],
      "metadata": {
        "id": "_c7AyQNCbxCQ"
      },
      "execution_count": null,
      "outputs": []
    },
    {
      "cell_type": "code",
      "source": [
        "reg= coffee[coffee['Type'] =='Regular']\n",
        "reg"
      ],
      "metadata": {
        "id": "W0Xnazb5cf54"
      },
      "execution_count": null,
      "outputs": []
    },
    {
      "cell_type": "code",
      "source": [
        "del reg['Marketing']\n",
        "reg"
      ],
      "metadata": {
        "id": "0nefdRn6eBK7"
      },
      "execution_count": null,
      "outputs": []
    },
    {
      "cell_type": "markdown",
      "source": [
        "**Plotting with Matpltlib**"
      ],
      "metadata": {
        "id": "osessNEmhZY3"
      }
    },
    {
      "cell_type": "code",
      "source": [
        "import numpy as np\n",
        "import pandas as pd\n",
        "import matplotlib.pyplot as plt\n"
      ],
      "metadata": {
        "id": "wDxXvUTMMaFG"
      },
      "execution_count": null,
      "outputs": []
    },
    {
      "cell_type": "markdown",
      "source": [
        "**Linegraph**"
      ],
      "metadata": {
        "id": "xQwCUBrTq5TU"
      }
    },
    {
      "cell_type": "code",
      "source": [
        "x = [1,2,3,4,5]\n",
        "y= [10,20,30,40,50]"
      ],
      "metadata": {
        "id": "n2GAdYWjAGRu"
      },
      "execution_count": null,
      "outputs": []
    },
    {
      "cell_type": "code",
      "source": [
        "plt.plot(x,y)\n",
        "plt.xlabel('X-Data')\n",
        "plt.ylabel('Y-Data')\n",
        "plt.title('Linegraph')\n",
        "plt.show()"
      ],
      "metadata": {
        "id": "lJ9vWuOBAYv4"
      },
      "execution_count": null,
      "outputs": []
    },
    {
      "cell_type": "code",
      "source": [
        "y_2 = [5,15,25,35,45]"
      ],
      "metadata": {
        "id": "sJ5TbUAUEeBx"
      },
      "execution_count": null,
      "outputs": []
    },
    {
      "cell_type": "code",
      "source": [
        "plt.figure(figsize= (8,8))\n",
        "plt.plot(x,y, color='green', linewidth= 5, linestyle= '-', label= 'Y_Ones')\n",
        "plt.plot(x,y_2, color = \"red\", linewidth= 5,linestyle= '--',label='Y_Twos' )\n",
        "plt.xlabel('X-Data')\n",
        "plt.ylabel('Y-Data')\n",
        "plt.title('Legends')\n",
        "plt.legend()\n",
        "plt.show()"
      ],
      "metadata": {
        "id": "oNiiCzb0E0YB"
      },
      "execution_count": null,
      "outputs": []
    },
    {
      "cell_type": "markdown",
      "source": [
        "**Barplot**"
      ],
      "metadata": {
        "id": "x1dSDaszq8_t"
      }
    },
    {
      "cell_type": "code",
      "source": [
        "plt.bar(x,y)\n",
        "plt.xlabel('X-Data')\n",
        "plt.ylabel('Y-Data')\n",
        "plt.title('Bar Plot')\n",
        "plt.show()"
      ],
      "metadata": {
        "id": "MZzihisRCwNL"
      },
      "execution_count": null,
      "outputs": []
    },
    {
      "cell_type": "code",
      "source": [
        "plt.figure(figsize=(20,10))\n",
        "plt.bar(coffee['Product'],coffee['Profit'])\n",
        "plt.xlabel('Product')\n",
        "plt.ylabel('Profit')\n",
        "plt.title('Bar Plot')\n",
        "plt.show()"
      ],
      "metadata": {
        "id": "tAZJnt1rkKMb"
      },
      "execution_count": null,
      "outputs": []
    },
    {
      "cell_type": "markdown",
      "source": [
        "**Histogram**"
      ],
      "metadata": {
        "id": "MuM__dbwq__8"
      }
    },
    {
      "cell_type": "code",
      "source": [
        "import random\n",
        "n_x = [random.randint(1, 100) for _ in range(30)]\n",
        "\n",
        "print(n_x)"
      ],
      "metadata": {
        "id": "6isxRCgkD144"
      },
      "execution_count": null,
      "outputs": []
    },
    {
      "cell_type": "code",
      "source": [
        "plt.hist(n_x, bins=6)\n",
        "plt.xlabel('X-Data')\n",
        "plt.ylabel('Y-Data')\n",
        "plt.title('Histogram')\n",
        "plt.show()"
      ],
      "metadata": {
        "id": "_L628W3DDFAY"
      },
      "execution_count": null,
      "outputs": []
    },
    {
      "cell_type": "markdown",
      "source": [
        "**Boxplot**"
      ],
      "metadata": {
        "id": "dBc-Fb-IrDj3"
      }
    },
    {
      "cell_type": "code",
      "source": [
        "plt.boxplot(x=n_x, labels=['boxplot'])\n",
        "plt.xlabel('List')\n",
        "plt.ylabel('Data')\n",
        "plt.xlim(0,2)\n",
        "plt.ylim(0,110)\n",
        "plt.title('Boxplot')\n",
        "plt.show()"
      ],
      "metadata": {
        "id": "LijTpkDHNQjb"
      },
      "execution_count": null,
      "outputs": []
    },
    {
      "cell_type": "code",
      "source": [
        "plt.boxplot([coffee['Marketing'],coffee['Profit']], labels=['marketing', 'profit'])\n",
        "plt.xlabel('Items')\n",
        "plt.ylabel('Dollars')\n",
        "plt.xlim(0,3)\n",
        "plt.ylim(0,110)\n",
        "plt.title('Boxplot')\n",
        "plt.show()"
      ],
      "metadata": {
        "id": "oaZRKxhhifgo"
      },
      "execution_count": null,
      "outputs": []
    },
    {
      "cell_type": "markdown",
      "source": [
        "**Piechart**"
      ],
      "metadata": {
        "id": "z0QS2MxjrGsT"
      }
    },
    {
      "cell_type": "code",
      "source": [
        "item = ['egg','bread','vegetable','protein']\n",
        "cost= [10,15,20,30]\n",
        "plt.pie(cost,labels=item,autopct='%0.1f%%', explode=[0,0.1,0,0])\n",
        "plt.title('Grocery Shopping')\n",
        "plt.show()"
      ],
      "metadata": {
        "id": "dcrAiq_Y6HMi"
      },
      "execution_count": null,
      "outputs": []
    },
    {
      "cell_type": "code",
      "source": [
        "reg= coffee[coffee['Type'] =='Regular']\n",
        "dec= coffee[coffee['Type'] =='Decaf']"
      ],
      "metadata": {
        "id": "DtVzqZAhpEaa"
      },
      "execution_count": null,
      "outputs": []
    },
    {
      "cell_type": "code",
      "source": [
        "type_1=['regular', 'decaf']\n",
        "profit=[reg['Profit'].mean(), dec['Profit'].mean()]\n",
        "plt.figure(figsize=(10,10))\n",
        "plt.pie(profit,labels= type_1, autopct='%.1f%%', explode=[.0, .1])\n",
        "plt.title('Type wise profit' )\n",
        "plt.show()"
      ],
      "metadata": {
        "id": "soibh2DUphl0"
      },
      "execution_count": null,
      "outputs": []
    },
    {
      "cell_type": "markdown",
      "source": [
        "**Combination**"
      ],
      "metadata": {
        "id": "HzSjMjXWrKEz"
      }
    },
    {
      "cell_type": "code",
      "source": [
        "fig, ((ax1, ax2), (ax3,ax4)) = plt.subplots(nrows=2,ncols=2)\n",
        "ax1.plot()\n",
        "ax2.plot()\n",
        "ax3.plot()\n",
        "ax4.plot()\n",
        "ax1.plot(x,y)\n",
        "ax2.bar(x,y_2)\n",
        "ax3.hist(y_2,bins=5)\n",
        "ax4.pie(cost,labels=item)\n",
        "plt.show()"
      ],
      "metadata": {
        "id": "6PurvW7qHX3N"
      },
      "execution_count": null,
      "outputs": []
    }
  ]
}
